{
 "cells": [
  {
   "cell_type": "code",
   "execution_count": 4,
   "id": "10e0bfe7-d19e-40b2-8f41-e6a6d861ecd4",
   "metadata": {
    "tags": []
   },
   "outputs": [
    {
     "name": "stdout",
     "output_type": "stream",
     "text": [
      "Requirement already satisfied: shap in /opt/conda/lib/python3.10/site-packages (0.48.0)\n",
      "Requirement already satisfied: numpy in /opt/conda/lib/python3.10/site-packages (from shap) (2.1.3)\n",
      "Requirement already satisfied: scipy in /opt/conda/lib/python3.10/site-packages (from shap) (1.15.3)\n",
      "Requirement already satisfied: scikit-learn in /opt/conda/lib/python3.10/site-packages (from shap) (1.7.0)\n",
      "Requirement already satisfied: pandas in /opt/conda/lib/python3.10/site-packages (from shap) (2.3.1)\n",
      "Requirement already satisfied: tqdm>=4.27.0 in /opt/conda/lib/python3.10/site-packages (from shap) (4.67.1)\n",
      "Requirement already satisfied: packaging>20.9 in /opt/conda/lib/python3.10/site-packages (from shap) (25.0)\n",
      "Requirement already satisfied: slicer==0.0.8 in /opt/conda/lib/python3.10/site-packages (from shap) (0.0.8)\n",
      "Requirement already satisfied: numba>=0.54 in /opt/conda/lib/python3.10/site-packages (from shap) (0.61.0)\n",
      "Requirement already satisfied: cloudpickle in /opt/conda/lib/python3.10/site-packages (from shap) (3.1.1)\n",
      "Requirement already satisfied: typing-extensions in /opt/conda/lib/python3.10/site-packages (from shap) (4.14.1)\n",
      "Requirement already satisfied: llvmlite<0.45,>=0.44.0dev0 in /opt/conda/lib/python3.10/site-packages (from numba>=0.54->shap) (0.44.0)\n",
      "Requirement already satisfied: python-dateutil>=2.8.2 in /opt/conda/lib/python3.10/site-packages (from pandas->shap) (2.9.0.post0)\n",
      "Requirement already satisfied: pytz>=2020.1 in /opt/conda/lib/python3.10/site-packages (from pandas->shap) (2025.2)\n",
      "Requirement already satisfied: tzdata>=2022.7 in /opt/conda/lib/python3.10/site-packages (from pandas->shap) (2025.2)\n",
      "Requirement already satisfied: six>=1.5 in /opt/conda/lib/python3.10/site-packages (from python-dateutil>=2.8.2->pandas->shap) (1.17.0)\n",
      "Requirement already satisfied: joblib>=1.2.0 in /opt/conda/lib/python3.10/site-packages (from scikit-learn->shap) (1.5.1)\n",
      "Requirement already satisfied: threadpoolctl>=3.1.0 in /opt/conda/lib/python3.10/site-packages (from scikit-learn->shap) (3.6.0)\n",
      "Loading data...\n",
      "Data preparation complete.\n",
      "Data splitting complete.\n",
      "\n",
      "--- Training Random Forest model... ---\n",
      "Fitting 5 folds for each of 20 candidates, totalling 100 fits\n",
      "--- Model training complete. ---\n",
      "\n",
      "--- Performing SHAP Analysis... ---\n",
      "SHAP values shape: (59, 13, 2)\n",
      "\n",
      "--- Generating SHAP Summary Plot ---\n"
     ]
    },
    {
     "data": {
      "image/png": "[encoded data removed]",
      "text/plain": [
       "<Figure size 1150x660 with 2 Axes>"
      ]
     },
     "metadata": {},
     "output_type": "display_data"
    }
   ],
   "source": [
    "# Step 1: Install the required library\n",
    "!pip install shap\n",
    "\n",
    "# Step 2: Import all necessary packages\n",
    "import pandas as pd\n",
    "import numpy as np\n",
    "import shap\n",
    "import matplotlib.pyplot as plt\n",
    "from sklearn.model_selection import train_test_split, RandomizedSearchCV\n",
    "from sklearn.ensemble import RandomForestClassifier\n",
    "\n",
    "# Step 3: Load and prepare the data\n",
    "print(\"Loading data...\")\n",
    "df = pd.read_csv('data.csv')\n",
    "\n",
    "# Drop serial number if present\n",
    "if 'sno' in df.columns:\n",
    "    df = df.drop(\"sno\", axis=1)\n",
    "\n",
    "# Encode categorical variables automatically\n",
    "for col in df.select_dtypes(include=['object']).columns:\n",
    "    df[col] = df[col].astype(str).str.strip()   # clean spaces\n",
    "    df[col] = pd.factorize(df[col])[0]          # convert categories to integers\n",
    "\n",
    "# Drop missing values\n",
    "df.dropna(inplace=True)\n",
    "\n",
    "print(\"Data preparation complete.\")\n",
    "\n",
    "# Step 4: Split the data for training and testing\n",
    "X = df.drop(\"target\", axis=1)\n",
    "y = df[\"target\"]\n",
    "X_train, X_test, y_train, y_test = train_test_split(\n",
    "    X, y, test_size=0.2, random_state=42\n",
    ")\n",
    "print(\"Data splitting complete.\")\n",
    "\n",
    "# Step 5: Define and train the Random Forest model\n",
    "rf_grid = {\n",
    "    \"n_estimators\": np.arange(10, 1000, 50),\n",
    "    \"max_depth\": [None, 3, 5, 10],\n",
    "    \"min_samples_split\": np.arange(2, 20, 2),\n",
    "    \"min_samples_leaf\": np.arange(1, 20, 2)\n",
    "}\n",
    "rs_rfc = RandomizedSearchCV(\n",
    "    RandomForestClassifier(),\n",
    "    param_distributions=rf_grid,\n",
    "    n_iter=20,\n",
    "    cv=5,\n",
    "    verbose=1,\n",
    "    random_state=42\n",
    ")\n",
    "print(\"\\n--- Training Random Forest model... ---\")\n",
    "rs_rfc.fit(X_train, y_train)\n",
    "print(\"--- Model training complete. ---\")\n",
    "\n",
    "# Step 6: Perform SHAP analysis and generate the plot\n",
    "print(\"\\n--- Performing SHAP Analysis... ---\")\n",
    "best_model = rs_rfc.best_estimator_\n",
    "explainer = shap.TreeExplainer(best_model)\n",
    "shap_values = explainer.shap_values(X_test)\n",
    "\n",
    "print(\"SHAP values shape:\", np.array(shap_values).shape)\n",
    "print(\"\\n--- Generating SHAP Summary Plot ---\")\n",
    "\n",
    "if isinstance(shap_values, list):  # multi-class or old binary API\n",
    "    shap.summary_plot(shap_values[1], X_test)\n",
    "else:  # new API, directly returns matrix\n",
    "    shap.summary_plot(shap_values, X_test)"
   ]
  },
  {
   "cell_type": "code",
   "execution_count": 6,
   "id": "4ff404b2-5187-4fbf-964d-2a43fc2ce46f",
   "metadata": {
    "tags": []
   },
   "outputs": [
    {
     "name": "stdout",
     "output_type": "stream",
     "text": [
      "Index(['age', 'gender', 'cp', 'trestbps', 'chol', 'fbs', 'restecg', 'thalach',\n",
      "       'exang', 'oldpeak', 'slope', 'ca', 'thal'],\n",
      "      dtype='object')\n"
     ]
    }
   ],
   "source": [
    "print(X_test.columns)"
   ]
  },
  {
   "cell_type": "code",
   "execution_count": 7,
   "id": "509fea6a-acc0-4178-ab28-db6fce20c8ee",
   "metadata": {
    "tags": []
   },
   "outputs": [
    {
     "name": "stdout",
     "output_type": "stream",
     "text": [
      "Requirement already satisfied: fairlearn in /opt/conda/lib/python3.10/site-packages (0.12.0)\n",
      "Requirement already satisfied: numpy>=1.24.4 in /opt/conda/lib/python3.10/site-packages (from fairlearn) (2.1.3)\n",
      "Requirement already satisfied: pandas>=2.0.3 in /opt/conda/lib/python3.10/site-packages (from fairlearn) (2.3.1)\n",
      "Requirement already satisfied: scikit-learn>=1.2.1 in /opt/conda/lib/python3.10/site-packages (from fairlearn) (1.7.0)\n",
      "Requirement already satisfied: scipy>=1.9.3 in /opt/conda/lib/python3.10/site-packages (from fairlearn) (1.15.3)\n",
      "Requirement already satisfied: python-dateutil>=2.8.2 in /opt/conda/lib/python3.10/site-packages (from pandas>=2.0.3->fairlearn) (2.9.0.post0)\n",
      "Requirement already satisfied: pytz>=2020.1 in /opt/conda/lib/python3.10/site-packages (from pandas>=2.0.3->fairlearn) (2025.2)\n",
      "Requirement already satisfied: tzdata>=2022.7 in /opt/conda/lib/python3.10/site-packages (from pandas>=2.0.3->fairlearn) (2025.2)\n",
      "Requirement already satisfied: six>=1.5 in /opt/conda/lib/python3.10/site-packages (from python-dateutil>=2.8.2->pandas>=2.0.3->fairlearn) (1.17.0)\n",
      "Requirement already satisfied: joblib>=1.2.0 in /opt/conda/lib/python3.10/site-packages (from scikit-learn>=1.2.1->fairlearn) (1.5.1)\n",
      "Requirement already satisfied: threadpoolctl>=3.1.0 in /opt/conda/lib/python3.10/site-packages (from scikit-learn>=1.2.1->fairlearn) (3.6.0)\n",
      "--- Fairness Analysis Results ---\n",
      "        accuracy  selection_rate\n",
      "gender                          \n",
      "0       0.809524        0.333333\n",
      "1       0.941176        0.117647\n"
     ]
    }
   ],
   "source": [
    "# Step 1: Install fairlearn (if not already done)\n",
    "!pip install fairlearn\n",
    "\n",
    "# Step 2: Import the necessary tools\n",
    "from fairlearn.metrics import MetricFrame, selection_rate\n",
    "from sklearn.metrics import accuracy_score\n",
    "\n",
    "# Step 3: Get model predictions on the test set\n",
    "best_model = rs_rfc.best_estimator_\n",
    "y_pred = best_model.predict(X_test)\n",
    "\n",
    "# Step 4: Define the sensitive feature using the correct column name 'gender'\n",
    "sensitive_features = X_test['gender'] # <-- THIS IS THE FIX\n",
    "\n",
    "# Step 5: Define the metrics to calculate\n",
    "metrics = {\n",
    "    'accuracy': accuracy_score,\n",
    "    'selection_rate': selection_rate\n",
    "}\n",
    "\n",
    "# Step 6: Use MetricFrame to calculate the metrics for each gender group\n",
    "grouped_on_gender = MetricFrame(metrics=metrics,\n",
    "                                y_true=y_test,\n",
    "                                y_pred=y_pred,\n",
    "                                sensitive_features=sensitive_features)\n",
    "\n",
    "# Step 7: Print the results\n",
    "print(\"--- Fairness Analysis Results ---\")\n",
    "print(grouped_on_gender.by_group)"
   ]
  },
  {
   "cell_type": "code",
   "execution_count": 8,
   "id": "44eda117-64a0-4f83-91d2-b8051f03e5a2",
   "metadata": {
    "tags": []
   },
   "outputs": [
    {
     "name": "stdout",
     "output_type": "stream",
     "text": [
      "Model saved successfully as model.joblib\n"
     ]
    }
   ],
   "source": [
    "import joblib\n",
    "\n",
    "# Get the best trained model from your RandomizedSearchCV object\n",
    "best_model = rs_rfc.best_estimator_\n",
    "\n",
    "# Save the model to a file named 'model.joblib'\n",
    "joblib.dump(best_model, 'model.joblib')\n",
    "\n",
    "print(\"Model saved successfully as model.joblib\")"
   ]
  }
 ],
 "metadata": {
  "environment": {
   "kernel": "conda-base-py",
   "name": "workbench-notebooks.m131",
   "type": "gcloud",
   "uri": "us-docker.pkg.dev/deeplearning-platform-release/gcr.io/workbench-notebooks:m131"
  },
  "kernelspec": {
   "display_name": "Python 3 (ipykernel) (Local)",
   "language": "python",
   "name": "conda-base-py"
  },
  "language_info": {
   "codemirror_mode": {
    "name": "ipython",
    "version": 3
   },
   "file_extension": ".py",
   "mimetype": "text/x-python",
   "name": "python",
   "nbconvert_exporter": "python",
   "pygments_lexer": "ipython3",
   "version": "3.10.18"
  }
 },
 "nbformat": 4,
 "nbformat_minor": 5
}
